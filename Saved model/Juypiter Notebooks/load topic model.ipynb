{
 "cells": [
  {
   "cell_type": "code",
   "execution_count": null,
   "metadata": {
    "colab": {
     "base_uri": "https://localhost:8080/"
    },
    "executionInfo": {
     "elapsed": 23672,
     "status": "ok",
     "timestamp": 1653302660518,
     "user": {
      "displayName": "T. Hoekstra",
      "userId": "15583416116369470687"
     },
     "user_tz": -120
    },
    "id": "7hfwlFu8IoWW",
    "outputId": "85c4a6ae-e86e-4521-9ddd-06978711913b"
   },
   "outputs": [
    {
     "name": "stdout",
     "output_type": "stream",
     "text": [
      "Mounted at /content/drive\n"
     ]
    }
   ],
   "source": [
    "from google.colab import drive\n",
    "drive.mount('/content/drive')"
   ]
  },
  {
   "cell_type": "code",
   "execution_count": null,
   "metadata": {
    "id": "bmsV5WrtIouI"
   },
   "outputs": [],
   "source": [
    "import gensim\n",
    "from gensim import  models\n",
    "from gensim.test.utils import datapath\n",
    "from pprint import pprint\n",
    "import pandas as pd\n",
    "\n",
    "temp_file = datapath(\"/content/drive/Shareddrives/Founders correspondence thesis/Code/Topic Model/lda_model\")\n",
    "lda_model = gensim.models.ldamodel.LdaModel.load(temp_file)\n",
    "#pprint(lda_model.print_topics())\n",
    "\n",
    "df = pd.DataFrame(lda_model.print_topics(26))\n",
    "df.sort_values(0).reset_index().drop(columns='index').to_csv('/content/drive/Shareddrives/Founders correspondence thesis/Data/Topic model data/topic_model_topics.csv', header = ['topic_nr','keywords'],index=False)"
   ]
  },
  {
   "cell_type": "code",
   "execution_count": null,
   "metadata": {
    "colab": {
     "base_uri": "https://localhost:8080/",
     "height": 235
    },
    "executionInfo": {
     "elapsed": 6,
     "status": "error",
     "timestamp": 1653303207724,
     "user": {
      "displayName": "T. Hoekstra",
      "userId": "15583416116369470687"
     },
     "user_tz": -120
    },
    "id": "Zt7qk44ijBlN",
    "outputId": "49324149-376e-47c5-ca66-7e0ea4dfc1f8"
   },
   "outputs": [
    {
     "ename": "NameError",
     "evalue": "ignored",
     "output_type": "error",
     "traceback": [
      "\u001b[0;31m---------------------------------------------------------------------------\u001b[0m",
      "\u001b[0;31mNameError\u001b[0m                                 Traceback (most recent call last)",
      "\u001b[0;32m<ipython-input-9-29a9e78c2917>\u001b[0m in \u001b[0;36m<module>\u001b[0;34m()\u001b[0m\n\u001b[1;32m      1\u001b[0m \u001b[0;31m# Compute Perplexity\u001b[0m\u001b[0;34m\u001b[0m\u001b[0;34m\u001b[0m\u001b[0;34m\u001b[0m\u001b[0m\n\u001b[0;32m----> 2\u001b[0;31m \u001b[0mprint\u001b[0m\u001b[0;34m(\u001b[0m\u001b[0;34m'\\nPerplexity: '\u001b[0m\u001b[0;34m,\u001b[0m \u001b[0mlda_model\u001b[0m\u001b[0;34m.\u001b[0m\u001b[0mlog_perplexity\u001b[0m\u001b[0;34m(\u001b[0m\u001b[0mcorpus\u001b[0m\u001b[0;34m)\u001b[0m\u001b[0;34m)\u001b[0m  \u001b[0;31m# a measure of how good the model is. lower the better.\u001b[0m\u001b[0;34m\u001b[0m\u001b[0;34m\u001b[0m\u001b[0m\n\u001b[0m\u001b[1;32m      3\u001b[0m \u001b[0;34m\u001b[0m\u001b[0m\n\u001b[1;32m      4\u001b[0m \u001b[0;31m# Compute Coherence Score\u001b[0m\u001b[0;34m\u001b[0m\u001b[0;34m\u001b[0m\u001b[0;34m\u001b[0m\u001b[0m\n\u001b[1;32m      5\u001b[0m \u001b[0mcoherence_model_lda\u001b[0m \u001b[0;34m=\u001b[0m \u001b[0mCoherenceModel\u001b[0m\u001b[0;34m(\u001b[0m\u001b[0mmodel\u001b[0m\u001b[0;34m=\u001b[0m\u001b[0mlda_model\u001b[0m\u001b[0;34m,\u001b[0m \u001b[0mtexts\u001b[0m\u001b[0;34m=\u001b[0m\u001b[0mtexts\u001b[0m\u001b[0;34m,\u001b[0m \u001b[0mdictionary\u001b[0m\u001b[0;34m=\u001b[0m\u001b[0mid2word\u001b[0m\u001b[0;34m,\u001b[0m \u001b[0mcoherence\u001b[0m\u001b[0;34m=\u001b[0m\u001b[0;34m'c_v'\u001b[0m\u001b[0;34m)\u001b[0m\u001b[0;34m\u001b[0m\u001b[0;34m\u001b[0m\u001b[0m\n",
      "\u001b[0;31mNameError\u001b[0m: name 'corpus' is not defined"
     ]
    }
   ],
   "source": [
    "# Compute Perplexity\n",
    "print('\\nPerplexity: ', lda_model.log_perplexity(corpus))  # a measure of how good the model is. lower the better.\n",
    "\n",
    "# Compute Coherence Score\n",
    "coherence_model_lda = CoherenceModel(model=lda_model, texts=texts, dictionary=id2word, coherence='c_v')\n",
    "coherence_lda = coherence_model_lda.get_coherence()\n",
    "print('\\nCoherence Score: ', coherence_lda)"
   ]
  },
  {
   "cell_type": "code",
   "execution_count": null,
   "metadata": {
    "colab": {
     "base_uri": "https://localhost:8080/",
     "height": 200
    },
    "executionInfo": {
     "elapsed": 325,
     "status": "error",
     "timestamp": 1653303288029,
     "user": {
      "displayName": "T. Hoekstra",
      "userId": "15583416116369470687"
     },
     "user_tz": -120
    },
    "id": "yD3qHjF-jKp1",
    "outputId": "f63645cf-74d7-47ee-e218-168e428043b0"
   },
   "outputs": [
    {
     "ename": "NameError",
     "evalue": "ignored",
     "output_type": "error",
     "traceback": [
      "\u001b[0;31m---------------------------------------------------------------------------\u001b[0m",
      "\u001b[0;31mNameError\u001b[0m                                 Traceback (most recent call last)",
      "\u001b[0;32m<ipython-input-10-75e124f93a1c>\u001b[0m in \u001b[0;36m<module>\u001b[0;34m()\u001b[0m\n\u001b[0;32m----> 1\u001b[0;31m \u001b[0mpyLDAvis\u001b[0m\u001b[0;34m.\u001b[0m\u001b[0menable_notebook\u001b[0m\u001b[0;34m(\u001b[0m\u001b[0;34m)\u001b[0m\u001b[0;34m\u001b[0m\u001b[0;34m\u001b[0m\u001b[0m\n\u001b[0m\u001b[1;32m      2\u001b[0m \u001b[0mvis\u001b[0m \u001b[0;34m=\u001b[0m \u001b[0mpyLDAvis\u001b[0m\u001b[0;34m.\u001b[0m\u001b[0mgensim_models\u001b[0m\u001b[0;34m.\u001b[0m\u001b[0mprepare\u001b[0m\u001b[0;34m(\u001b[0m\u001b[0mlda_model\u001b[0m\u001b[0;34m,\u001b[0m \u001b[0mcorpus\u001b[0m\u001b[0;34m,\u001b[0m \u001b[0mid2word\u001b[0m\u001b[0;34m)\u001b[0m\u001b[0;34m\u001b[0m\u001b[0;34m\u001b[0m\u001b[0m\n\u001b[1;32m      3\u001b[0m \u001b[0mvis\u001b[0m\u001b[0;34m\u001b[0m\u001b[0;34m\u001b[0m\u001b[0m\n",
      "\u001b[0;31mNameError\u001b[0m: name 'pyLDAvis' is not defined"
     ]
    }
   ],
   "source": [
    "pyLDAvis.enable_notebook()\n",
    "vis = pyLDAvis.gensim_models.prepare(lda_model, corpus, id2word)\n",
    "vis"
   ]
  },
  {
   "cell_type": "markdown",
   "metadata": {
    "id": "vpFRM4jzzmNa"
   },
   "source": [
    "## Topic model exploration"
   ]
  },
  {
   "cell_type": "code",
   "execution_count": null,
   "metadata": {
    "id": "4P60jb7xzAka"
   },
   "outputs": [],
   "source": [
    "df['dominant_topic'].value_counts()"
   ]
  },
  {
   "cell_type": "code",
   "execution_count": null,
   "metadata": {
    "id": "Q5SxkzBZzKoB"
   },
   "outputs": [],
   "source": [
    "#top 3 topics\n",
    "print(df['topic_keywords'].loc[df['dominant_topic'] == 22].unique())\n",
    "print(df['topic_keywords'].loc[df['dominant_topic'] == 14].unique())\n",
    "print(df['topic_keywords'].loc[df['dominant_topic'] == 11].unique())"
   ]
  },
  {
   "cell_type": "code",
   "execution_count": null,
   "metadata": {
    "id": "kV7sAqz2zOLq"
   },
   "outputs": [],
   "source": [
    "#bottom 3 topics\n",
    "print(df['topic_keywords'].loc[df['dominant_topic'] == 6].unique())\n",
    "print(df['topic_keywords'].loc[df['dominant_topic'] == 12].unique())\n",
    "print(df['topic_keywords'].loc[df['dominant_topic'] == 9].unique())"
   ]
  },
  {
   "cell_type": "code",
   "execution_count": null,
   "metadata": {
    "id": "IHdeNIjszQ_r"
   },
   "outputs": [],
   "source": [
    "dicteroo={}\n",
    "for founder in founders:\n",
    "  founderdf = df.loc[df['authors'] == founder]\n",
    "  dicteroo[founder] = founderdf['dominant_topic'].value_counts().nlargest(1).to_string(index=True)\n",
    "print(dicteroo)"
   ]
  },
  {
   "cell_type": "code",
   "execution_count": null,
   "metadata": {
    "id": "YaWcEFf7zS0a"
   },
   "outputs": [],
   "source": [
    "#topics over time\n",
    "topic = df.loc[df['dominant_topic'] == 1 & 24]\n",
    "ax = topic['date_from'].dt.year.value_counts().sort_index(ascending=True).plot() \n",
    "plt.show()"
   ]
  }
 ],
 "metadata": {
  "colab": {
   "authorship_tag": "ABX9TyO6AI8KblemvA0oSEtnHBL8",
   "collapsed_sections": [],
   "name": "load topic model.ipynb",
   "provenance": []
  },
  "kernelspec": {
   "display_name": "Python 3",
   "language": "python",
   "name": "python3"
  },
  "language_info": {
   "codemirror_mode": {
    "name": "ipython",
    "version": 3
   },
   "file_extension": ".py",
   "mimetype": "text/x-python",
   "name": "python",
   "nbconvert_exporter": "python",
   "pygments_lexer": "ipython3",
   "version": "3.8.8"
  }
 },
 "nbformat": 4,
 "nbformat_minor": 1
}
